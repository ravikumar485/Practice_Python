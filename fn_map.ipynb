{
 "cells": [
  {
   "cell_type": "code",
   "execution_count": 21,
   "metadata": {},
   "outputs": [
    {
     "name": "stdout",
     "output_type": "stream",
     "text": [
      "Ravi   1100    30\n",
      "None\n",
      "Sukanya   10100    20\n",
      "None\n",
      "name1   200    22\n",
      "None\n"
     ]
    }
   ],
   "source": [
    "class Employee:\n",
    "    def __init__(self, name, sal, age):\n",
    "        self.name = name\n",
    "        self.sal = sal\n",
    "        self.age = age\n",
    "\n",
    "    def display(self):\n",
    "        print(self.name, \" \", self.sal, \"  \", self.age)\n",
    "\n",
    "\n",
    "e1 = Employee(\"Ravi\", 1000, 30)\n",
    "e2 = Employee(\"Sukanya\", 10000, 20)\n",
    "e3 = Employee(\"name1\", 100, 22)\n",
    "\n",
    "l = [e1, e2, e3]\n",
    "\n",
    "update_sal = map(lambda x: Employee(x.name, x.sal + 100, x.age), l)\n",
    "\n",
    "\n",
    "for i in update_sal:\n",
    "    print(i.display())"
   ]
  },
  {
   "cell_type": "code",
   "execution_count": 34,
   "metadata": {},
   "outputs": [
    {
     "name": "stdout",
     "output_type": "stream",
     "text": [
      "Ravi   1000    30\n",
      "Sukanya   10000    20\n"
     ]
    }
   ],
   "source": [
    "result_e =filter(lambda x:x.sal>200,l)\n",
    "for i in result_e:\n",
    "    i.display()"
   ]
  },
  {
   "cell_type": "code",
   "execution_count": 38,
   "metadata": {},
   "outputs": [
    {
     "name": "stdout",
     "output_type": "stream",
     "text": [
      "[20, 30, 40, 50]\n"
     ]
    }
   ],
   "source": [
    "s=[10,20,30,40]\n",
    "\n",
    "r=list(map(lambda x : x+10, s))\n",
    "\n",
    "print (r)\n"
   ]
  },
  {
   "cell_type": "code",
   "execution_count": 42,
   "metadata": {},
   "outputs": [
    {
     "name": "stdout",
     "output_type": "stream",
     "text": [
      "[14, 24, 36, 50, 66, 2]\n"
     ]
    }
   ],
   "source": [
    "l1=[2,3,4,5,6,1,3]\n",
    "l2=[7,8,9,10,11,2]\n",
    "\n",
    "\n",
    "s= list(map(lambda x,y:x*y,l1,l2))\n",
    "\n",
    "print(s)\n",
    "\n",
    "\n",
    "\n"
   ]
  }
 ],
 "metadata": {
  "kernelspec": {
   "display_name": "Python 3",
   "language": "python",
   "name": "python3"
  },
  "language_info": {
   "codemirror_mode": {
    "name": "ipython",
    "version": 3
   },
   "file_extension": ".py",
   "mimetype": "text/x-python",
   "name": "python",
   "nbconvert_exporter": "python",
   "pygments_lexer": "ipython3",
   "version": "3.10.0"
  }
 },
 "nbformat": 4,
 "nbformat_minor": 2
}
