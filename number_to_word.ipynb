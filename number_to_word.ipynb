{
 "cells": [
  {
   "cell_type": "code",
   "execution_count": 2,
   "metadata": {},
   "outputs": [
    {
     "name": "stdout",
     "output_type": "stream",
     "text": [
      "Enter 2 numbers\n",
      "one\n",
      "ten\n"
     ]
    },
    {
     "ename": "",
     "evalue": "",
     "output_type": "error",
     "traceback": [
      "\u001b[1;31mThe Kernel crashed while executing code in the current cell or a previous cell. \n",
      "\u001b[1;31mPlease review the code in the cell(s) to identify a possible cause of the failure. \n",
      "\u001b[1;31mClick <a href='https://aka.ms/vscodeJupyterKernelCrash'>here</a> for more info. \n",
      "\u001b[1;31mView Jupyter <a href='command:jupyter.viewOutput'>log</a> for further details."
     ]
    }
   ],
   "source": [
    "print(\"Enter 2 numbers\")\n",
    "a= input()\n",
    "\n",
    "b=a.split(\" \")\n",
    "\n",
    "def fn_degit_to_word(p_num):\n",
    "    num=int(p_num)\n",
    "    if num<9:\n",
    "        if num==1:\n",
    "            print(\"one\")\n",
    "        elif num==2:\n",
    "            print(\"two\")\n",
    "        elif num==3:\n",
    "            print(\"three\")\n",
    "        elif num==4:\n",
    "            print(\"four\")\n",
    "        elif num==5:\n",
    "            print(\"five\")\n",
    "        elif num==6:\n",
    "            print(\"six\")\n",
    "        elif num==7:\n",
    "            print(\"seven\")\n",
    "        elif num==8:\n",
    "            print(\"eight\")\n",
    "        elif num==9:\n",
    "            print(\"nine\")\n",
    "    elif num==10:\n",
    "        print(\"ten\")\n",
    "\n",
    "\n",
    "for i in b:\n",
    "    if len(i)>1:\n",
    "        print(\"Invalid input\")\n",
    "        break\n",
    "    \n",
    "    \n",
    "    \n"
   ]
  }
 ],
 "metadata": {
  "kernelspec": {
   "display_name": "Python 3",
   "language": "python",
   "name": "python3"
  },
  "language_info": {
   "codemirror_mode": {
    "name": "ipython",
    "version": 3
   },
   "file_extension": ".py",
   "mimetype": "text/x-python",
   "name": "python",
   "nbconvert_exporter": "python",
   "pygments_lexer": "ipython3",
   "version": "3.10.0"
  }
 },
 "nbformat": 4,
 "nbformat_minor": 2
}
