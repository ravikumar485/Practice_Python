{
 "cells": [
  {
   "cell_type": "code",
   "execution_count": 1,
   "metadata": {},
   "outputs": [
    {
     "name": "stdout",
     "output_type": "stream",
     "text": [
      "**********\n"
     ]
    }
   ],
   "source": [
    "a=10\n",
    "\n",
    "print(\"*\"*a)"
   ]
  },
  {
   "cell_type": "code",
   "execution_count": 2,
   "metadata": {},
   "outputs": [
    {
     "name": "stdout",
     "output_type": "stream",
     "text": [
      "*\n",
      "*\n",
      "*\n",
      "*\n",
      "*\n",
      "*\n",
      "*\n",
      "*\n",
      "*\n",
      "*\n"
     ]
    }
   ],
   "source": [
    "a=10\n",
    "\n",
    "for i in range(a):\n",
    "    print(\"*\" *1)"
   ]
  },
  {
   "cell_type": "code",
   "execution_count": 5,
   "metadata": {},
   "outputs": [
    {
     "name": "stdout",
     "output_type": "stream",
     "text": [
      "\n",
      "* \n",
      "* * \n",
      "* * * \n",
      "* * * * \n",
      "* * * * * \n",
      "* * * * * * \n",
      "* * * * * * * \n",
      "* * * * * * * * \n",
      "* * * * * * * * * \n"
     ]
    }
   ],
   "source": [
    "a=10\n",
    "\n",
    "for i in range(a):\n",
    "    for j in range(i):\n",
    "        print(\"*\",end=\" \")\n",
    "    print()"
   ]
  },
  {
   "cell_type": "code",
   "execution_count": 25,
   "metadata": {},
   "outputs": [
    {
     "name": "stdout",
     "output_type": "stream",
     "text": [
      "0 0 0 0 0 0 0 0 0 0 \n",
      "1 1 1 1 1 1 1 1 1 1 \n",
      "2 2 2 2 2 2 2 2 2 2 \n",
      "3 3 3 3 3 3 3 3 3 3 \n",
      "4 4 4 4 4 4 4 4 4 4 \n",
      "5 5 5 5 5 5 5 5 5 5 \n",
      "6 6 6 6 6 6 6 6 6 6 \n",
      "7 7 7 7 7 7 7 7 7 7 \n",
      "8 8 8 8 8 8 8 8 8 8 \n",
      "9 9 9 9 9 9 9 9 9 9 \n"
     ]
    }
   ],
   "source": [
    "a=10\n",
    "for i in range(10):\n",
    "    for j in range(a):\n",
    "        print(i, end=\" \")\n",
    "    print()\n",
    "    \n"
   ]
  },
  {
   "cell_type": "code",
   "execution_count": 26,
   "metadata": {},
   "outputs": [
    {
     "name": "stdout",
     "output_type": "stream",
     "text": [
      "1 2 3 4 5 6 7 8 9 10 \n",
      "1 2 3 4 5 6 7 8 9 10 \n",
      "1 2 3 4 5 6 7 8 9 10 \n",
      "1 2 3 4 5 6 7 8 9 10 \n",
      "1 2 3 4 5 6 7 8 9 10 \n",
      "1 2 3 4 5 6 7 8 9 10 \n",
      "1 2 3 4 5 6 7 8 9 10 \n",
      "1 2 3 4 5 6 7 8 9 10 \n",
      "1 2 3 4 5 6 7 8 9 10 \n",
      "1 2 3 4 5 6 7 8 9 10 \n"
     ]
    }
   ],
   "source": [
    "a=10\n",
    "for i in range(1,a+1):\n",
    "    for j in range(1,a+1):\n",
    "        print(j,end=\" \")\n",
    "    print()"
   ]
  },
  {
   "cell_type": "code",
   "execution_count": 27,
   "metadata": {},
   "outputs": [
    {
     "name": "stdout",
     "output_type": "stream",
     "text": [
      "* \n",
      "* * \n",
      "* * * \n",
      "* * * * \n",
      "* * * * * \n",
      "* * * * * * \n",
      "* * * * * * * \n",
      "* * * * * * * * \n",
      "* * * * * * * * * \n",
      "* * * * * * * * * * \n"
     ]
    }
   ],
   "source": [
    "a =10\n",
    "for i in range(1,a+1):\n",
    "    for j in range(1,i+1):\n",
    "        print(\"*\", end=\" \")\n",
    "    print()"
   ]
  },
  {
   "cell_type": "code",
   "execution_count": 34,
   "metadata": {},
   "outputs": [
    {
     "name": "stdout",
     "output_type": "stream",
     "text": [
      "*  *  *  *  *  *  *  *  *  \n",
      "*  *  *  *  *  *  *  *  \n",
      "*  *  *  *  *  *  *  \n",
      "*  *  *  *  *  *  \n",
      "*  *  *  *  *  \n",
      "*  *  *  *  \n",
      "*  *  *  \n",
      "*  *  \n",
      "*  \n"
     ]
    }
   ],
   "source": [
    "a=10\n",
    "for i in range(a,1,-1):\n",
    "    for j in range(i-1):\n",
    "        print(\"* \",end=\" \")\n",
    "    print()\n",
    "        "
   ]
  },
  {
   "cell_type": "code",
   "execution_count": 44,
   "metadata": {},
   "outputs": [
    {
     "name": "stdout",
     "output_type": "stream",
     "text": [
      "10 9 8 7 6 5 4 3 2 1 \n",
      "10 9 8 7 6 5 4 3 2 1 \n",
      "10 9 8 7 6 5 4 3 2 1 \n",
      "10 9 8 7 6 5 4 3 2 1 \n",
      "10 9 8 7 6 5 4 3 2 1 \n",
      "10 9 8 7 6 5 4 3 2 1 \n",
      "10 9 8 7 6 5 4 3 2 1 \n",
      "10 9 8 7 6 5 4 3 2 1 \n",
      "10 9 8 7 6 5 4 3 2 1 \n",
      "10 9 8 7 6 5 4 3 2 1 \n"
     ]
    }
   ],
   "source": [
    "a=10\n",
    "for i in range(a,0,-1):\n",
    "    for j in range(a,0,-1):\n",
    "        print(j, end=\" \")\n",
    "\n",
    "    print()"
   ]
  },
  {
   "cell_type": "code",
   "execution_count": 46,
   "metadata": {},
   "outputs": [
    {
     "name": "stdout",
     "output_type": "stream",
     "text": [
      "*  \n",
      "*  *  \n",
      "*  *  *  \n"
     ]
    }
   ],
   "source": [
    "a=3\n",
    "for i in range(1,a+1):\n",
    "    for j in range(1,i+1):\n",
    "        print(\"* \", end=\" \")\n",
    "    print()"
   ]
  },
  {
   "cell_type": "code",
   "execution_count": 96,
   "metadata": {},
   "outputs": [
    {
     "name": "stdout",
     "output_type": "stream",
     "text": [
      "..... 0 \n",
      ".... 1 1 \n",
      "... 2 2 2 \n",
      ".. 3 3 3 3 \n",
      ". 4 4 4 4 4 \n",
      " 5 5 5 5 5 5 \n"
     ]
    },
    {
     "ename": "",
     "evalue": "",
     "output_type": "error",
     "traceback": [
      "\u001b[1;31mThe Kernel crashed while executing code in the current cell or a previous cell. \n",
      "\u001b[1;31mPlease review the code in the cell(s) to identify a possible cause of the failure. \n",
      "\u001b[1;31mClick <a href='https://aka.ms/vscodeJupyterKernelCrash'>here</a> for more info. \n",
      "\u001b[1;31mView Jupyter <a href='command:jupyter.viewOutput'>log</a> for further details."
     ]
    }
   ],
   "source": [
    "a=6\n",
    "for i in range(a):\n",
    "    print(\".\"*(a-i-1), end=\" \")\n",
    "    print((str(i)+\" \")*(i+1) )\n",
    "    # print()\n",
    "        "
   ]
  }
 ],
 "metadata": {
  "kernelspec": {
   "display_name": "Python 3",
   "language": "python",
   "name": "python3"
  },
  "language_info": {
   "codemirror_mode": {
    "name": "ipython",
    "version": 3
   },
   "file_extension": ".py",
   "mimetype": "text/x-python",
   "name": "python",
   "nbconvert_exporter": "python",
   "pygments_lexer": "ipython3",
   "version": "3.10.0"
  }
 },
 "nbformat": 4,
 "nbformat_minor": 2
}
