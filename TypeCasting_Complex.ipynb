s=1
a= complex(s)
print(a)
