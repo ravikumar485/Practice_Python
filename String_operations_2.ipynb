{
 "cells": [
  {
   "cell_type": "code",
   "execution_count": 10,
   "metadata": {},
   "outputs": [
    {
     "name": "stdout",
     "output_type": "stream",
     "text": [
      "['you', 'are', 'who']\n"
     ]
    }
   ],
   "source": [
    "#Reverse order of words in a sentence\n",
    "\n",
    "a=\"who are you\"\n",
    "b=a.split()\n",
    "b.reverse()\n",
    "print(b)\n",
    "a=\" \".join(b)\n"
   ]
  },
  {
   "cell_type": "code",
   "execution_count": 15,
   "metadata": {},
   "outputs": [
    {
     "name": "stdout",
     "output_type": "stream",
     "text": [
      "['you', 'are', 'who']\n",
      "you are who\n"
     ]
    }
   ],
   "source": [
    "a=\"who are you\"\n",
    "b=a.split()\n",
    "\n",
    "a=b[::-1]\n",
    "print(a)\n",
    "a=\" \".join(a)\n",
    "\n",
    "print(a)"
   ]
  },
  {
   "cell_type": "code",
   "execution_count": 18,
   "metadata": {},
   "outputs": [
    {
     "name": "stdout",
     "output_type": "stream",
     "text": [
      " you are who\n"
     ]
    }
   ],
   "source": [
    "a=\"who are you\"\n",
    "\n",
    "b=a.split()\n",
    "\n",
    "out=\"\"\n",
    "\n",
    "for i in b[::-1]:\n",
    "    out=out+\" \"+i\n",
    "print(out)\n",
    "\n",
    "    "
   ]
  },
  {
   "cell_type": "code",
   "execution_count": 29,
   "metadata": {},
   "outputs": [
    {
     "name": "stdout",
     "output_type": "stream",
     "text": [
      "['you', 'are', 'who']\n"
     ]
    }
   ],
   "source": [
    "a=\"who are you\"\n",
    "b=a.split()\n",
    "out=\"\"\n",
    "\n",
    "while b:\n",
    "    out=out+str(b[::-1])\n",
    "    b=b[:len(b)-1:-1]\n",
    "\n",
    "print(out)"
   ]
  },
  {
   "cell_type": "code",
   "execution_count": 31,
   "metadata": {},
   "outputs": [
    {
     "name": "stdout",
     "output_type": "stream",
     "text": [
      "dear.. you are Who \n"
     ]
    }
   ],
   "source": [
    "a=\"Who are you dear..\"\n",
    "out =\"\"\n",
    "b=a.split()\n",
    "\n",
    "while b:\n",
    "    out += b.pop() + \" \"\n",
    "print(out)\n"
   ]
  },
  {
   "cell_type": "code",
   "execution_count": null,
   "metadata": {},
   "outputs": [],
   "source": []
  }
 ],
 "metadata": {
  "kernelspec": {
   "display_name": "Python 3",
   "language": "python",
   "name": "python3"
  },
  "language_info": {
   "codemirror_mode": {
    "name": "ipython",
    "version": 3
   },
   "file_extension": ".py",
   "mimetype": "text/x-python",
   "name": "python",
   "nbconvert_exporter": "python",
   "pygments_lexer": "ipython3",
   "version": "3.10.0"
  }
 },
 "nbformat": 4,
 "nbformat_minor": 2
}
