{
 "cells": [
  {
   "cell_type": "code",
   "execution_count": 1,
   "metadata": {},
   "outputs": [
    {
     "name": "stdout",
     "output_type": "stream",
     "text": [
      "<filter object at 0x000001741D1E8B20>\n"
     ]
    }
   ],
   "source": [
    "def fn_isEven(x):\n",
    "    if x%2==0:\n",
    "        return True\n",
    "\n",
    "l=[1,3,4,2,6,8,5,8,9,10]\n",
    "s=filter(fn_isEven,l)\n",
    "\n",
    "print(s)\n"
   ]
  },
  {
   "cell_type": "code",
   "execution_count": 2,
   "metadata": {},
   "outputs": [
    {
     "name": "stdout",
     "output_type": "stream",
     "text": [
      "[4, 2, 6, 8, 8, 10]\n"
     ]
    }
   ],
   "source": [
    "s=list(s)\n",
    "print(s)"
   ]
  },
  {
   "cell_type": "code",
   "execution_count": 8,
   "metadata": {},
   "outputs": [
    {
     "name": "stdout",
     "output_type": "stream",
     "text": [
      "[4, 2, 6, 8, 8, 10]\n",
      "[1, 3, 5, 9]\n"
     ]
    }
   ],
   "source": [
    "evens=list(filter(lambda n:n%2==0,l))\n",
    "odds=list(filter(lambda n:n%2==1,l))\n",
    "\n",
    "print(evens)\n",
    "print(odds)"
   ]
  },
  {
   "cell_type": "code",
   "execution_count": 11,
   "metadata": {},
   "outputs": [
    {
     "name": "stdout",
     "output_type": "stream",
     "text": [
      "['SUkanya', 'tenali']\n"
     ]
    }
   ],
   "source": [
    "l=[\"Ravi\",\"ram\",\"SUkanya\",\"tenali\"]\n",
    "\n",
    "lenths=list(filter(lambda x: len(x) >4,l))\n",
    "\n",
    "print(lenths)\n",
    "            "
   ]
  }
 ],
 "metadata": {
  "kernelspec": {
   "display_name": "Python 3",
   "language": "python",
   "name": "python3"
  },
  "language_info": {
   "codemirror_mode": {
    "name": "ipython",
    "version": 3
   },
   "file_extension": ".py",
   "mimetype": "text/x-python",
   "name": "python",
   "nbconvert_exporter": "python",
   "pygments_lexer": "ipython3",
   "version": "3.10.0"
  }
 },
 "nbformat": 4,
 "nbformat_minor": 2
}
