{
 "cells": [
  {
   "cell_type": "code",
   "execution_count": 1,
   "metadata": {},
   "outputs": [
    {
     "name": "stdout",
     "output_type": "stream",
     "text": [
      "================================================\n",
      "================================================\n",
      "================================================\n",
      "1 Sno name is ravikumar\n",
      "1 Sno name is ravikumar\n",
      "1 Sno name is ravikumar\n",
      "1 Sno name is ravikumar\n",
      "1 Sno name is ravikumar\n"
     ]
    }
   ],
   "source": [
    "d={}\n",
    "while True:\n",
    "    sno=input(\"Enter student number\")\n",
    "    sname=input(\"Enter strudent name\")\n",
    "    d[sno]=sname\n",
    "    opt=input(\"Do you want to continue y/n\")\n",
    "    if opt.lower()==\"n\":\n",
    "        break\n",
    "\n",
    "print(\"================================================\")\n",
    "print(\"================================================\")\n",
    "print(\"================================================\")\n",
    "    \n",
    "\n",
    "\n",
    "while True:\n",
    "    sno=input(\"Enter no\")\n",
    "    if sno in d:\n",
    "        print(\"{} Sno name is {}\".format(sno,d[sno]))\n",
    "    else:\n",
    "        print(\"Sno not presnet\")\n",
    "    opt=input(\"do you want to get more student details (y/n)\")\n",
    "    if opt.lower()==\"n\":\n",
    "        break\n",
    "\n",
    "\n",
    "\n"
   ]
  }
 ],
 "metadata": {
  "kernelspec": {
   "display_name": "Python 3",
   "language": "python",
   "name": "python3"
  },
  "language_info": {
   "codemirror_mode": {
    "name": "ipython",
    "version": 3
   },
   "file_extension": ".py",
   "mimetype": "text/x-python",
   "name": "python",
   "nbconvert_exporter": "python",
   "pygments_lexer": "ipython3",
   "version": "3.10.0"
  }
 },
 "nbformat": 4,
 "nbformat_minor": 2
}
