{
 "cells": [
  {
   "cell_type": "code",
   "execution_count": 11,
   "metadata": {},
   "outputs": [
    {
     "name": "stdout",
     "output_type": "stream",
     "text": [
      "5050\n"
     ]
    }
   ],
   "source": [
    "a=100\n",
    "sum=0\n",
    "i=0\n",
    "while i<=a:\n",
    "  sum=sum+i\n",
    "  i=i+1\n",
    "print(sum)"
   ]
  },
  {
   "cell_type": "code",
   "execution_count": 1,
   "metadata": {},
   "outputs": [
    {
     "name": "stdout",
     "output_type": "stream",
     "text": [
      "Enter your name\n",
      "Enter your name\n",
      "Enter your name\n",
      "You have entered wrong name 3 times\n"
     ]
    }
   ],
   "source": [
    "a=\"Ravik\"\n",
    "i=0\n",
    "while a!=\"Ravi\":\n",
    "   \n",
    "    print(\"Enter your name\")\n",
    "    a=input()\n",
    "    i=i+1\n",
    "    if i==3:\n",
    "        print(\"You have entered wrong name 3 times\")\n",
    "        break"
   ]
  },
  {
   "cell_type": "code",
   "execution_count": 3,
   "metadata": {},
   "outputs": [
    {
     "name": "stdout",
     "output_type": "stream",
     "text": [
      "Try again\n",
      "Welcome\n"
     ]
    },
    {
     "ename": "",
     "evalue": "",
     "output_type": "error",
     "traceback": [
      "\u001b[1;31mThe Kernel crashed while executing code in the current cell or a previous cell. \n",
      "\u001b[1;31mPlease review the code in the cell(s) to identify a possible cause of the failure. \n",
      "\u001b[1;31mClick <a href='https://aka.ms/vscodeJupyterKernelCrash'>here</a> for more info. \n",
      "\u001b[1;31mView Jupyter <a href='command:jupyter.viewOutput'>log</a> for further details."
     ]
    }
   ],
   "source": [
    "while True:\n",
    "    user_name=((input(\"Enter your name: \")))\n",
    "    password=((input(\"Enter your password: \")))\n",
    "    if user_name==\"admin\" and password==\"admin\":\n",
    "        print(\"Welcome\")\n",
    "        break\n",
    "    else:\n",
    "        print(\"Try again\")"
   ]
  }
 ],
 "metadata": {
  "kernelspec": {
   "display_name": "Python 3",
   "language": "python",
   "name": "python3"
  },
  "language_info": {
   "codemirror_mode": {
    "name": "ipython",
    "version": 3
   },
   "file_extension": ".py",
   "mimetype": "text/x-python",
   "name": "python",
   "nbconvert_exporter": "python",
   "pygments_lexer": "ipython3",
   "version": "3.10.0"
  }
 },
 "nbformat": 4,
 "nbformat_minor": 2
}
