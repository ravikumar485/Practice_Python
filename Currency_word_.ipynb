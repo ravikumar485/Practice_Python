{
 "cells": [
  {
   "cell_type": "code",
   "execution_count": 20,
   "metadata": {},
   "outputs": [
    {
     "name": "stdout",
     "output_type": "stream",
     "text": [
      "TWO HUNDRED \n"
     ]
    }
   ],
   "source": [
    "a=235\n",
    "\n",
    "d_units={0:\"ZERO\",1:\"ONE\",2:\"TWO\",3:\"THREE\",4:\"FOUR\",5:\"FIVE\",6:\"SIX\",7:\"SEVEN\",8:\"EIGHT\",9:\"NINE\",10:\"TEN\",11:\"ELEVEN\",12:\"TWELVE\",13:\"THIRTEEN\",14:\"FOURTEEN\",15:\"FIFTEEN\",16:\"SIXTEEN\",17:\"SEVENTEEN\",18:\"EIGHTEEN\",19:\"NINETEEN\",20:\"TWENTY\",30:\"THIRTY\",40:\"FORTY\",50:\"FIFTY\",60:\"SIXTY\",70:\"SEVENTY\",80:\"EIGHTY\",90:\"NINETY\"}\n",
    "\n",
    "if a<20:\n",
    "    print(d_units[a])\n",
    "\n",
    "elif a>20 and a<100:\n",
    "    if a%10==0:\n",
    "        print(d_units[a])\n",
    "    else:\n",
    "        print(d_units[a//10*10]+\" \"+d_units[a%10])\n",
    "elif a>100 and a<1000:\n",
    "    if a%100==0:\n",
    "        print(a//100)\n",
    "        # print(d_units[a//100]+\" HUNDRED\")\n",
    "    else:\n",
    "        # print(a//100)\n",
    "        print(d_units[a//100]+\" HUNDRED \")#+d_units[a%10])\n"
   ]
  }
 ],
 "metadata": {
  "kernelspec": {
   "display_name": "Python 3",
   "language": "python",
   "name": "python3"
  },
  "language_info": {
   "codemirror_mode": {
    "name": "ipython",
    "version": 3
   },
   "file_extension": ".py",
   "mimetype": "text/x-python",
   "name": "python",
   "nbconvert_exporter": "python",
   "pygments_lexer": "ipython3",
   "version": "3.10.0"
  }
 },
 "nbformat": 4,
 "nbformat_minor": 2
}
