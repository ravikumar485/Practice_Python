{
 "cells": [
  {
   "cell_type": "code",
   "execution_count": 15,
   "metadata": {},
   "outputs": [
    {
     "name": "stdout",
     "output_type": "stream",
     "text": [
      "{'store1': {'name': 'store1', 'address': 'address1', 'products': [{'name': 'prod1', 'Qty': 1, 'Price': 10}, {'name': 'prod2', 'Qty': 2, 'Price': 20}, {'name': 'prod3', 'Qty': 3, 'Price': 30}]}, 'store2': {'name': 'store2', 'address': 'address2', 'products': [{'name': 'prod1', 'Qty': 1, 'Price': 10}, {'name': 'prod2', 'Qty': 2, 'Price': 20}, {'name': 'prod3', 'Qty': 3, 'Price': 30}]}}\n",
      "store1\n",
      "store2\n",
      "prod1\n",
      "prod2\n",
      "prod3\n",
      "prod1\n",
      "prod2\n",
      "prod3\n"
     ]
    }
   ],
   "source": [
    "strore_info = {\n",
    "    \"store1\": {\n",
    "        \"name\": \"store1\",\n",
    "        \"address\": \"address1\",\n",
    "        \"products\": [\n",
    "            {\"name\": \"prod1\", \"Qty\": 1, \"Price\": 10},\n",
    "            {\"name\": \"prod2\", \"Qty\": 2, \"Price\": 20},\n",
    "            {\"name\": \"prod3\", \"Qty\": 3, \"Price\": 30},\n",
    "        ],\n",
    "    },\n",
    "    \"store2\": {\n",
    "        \"name\": \"store2\",\n",
    "        \"address\": \"address2\",\n",
    "        \"products\": [\n",
    "            {\"name\": \"prod1\", \"Qty\": 1, \"Price\": 10},\n",
    "            {\"name\": \"prod2\", \"Qty\": 2, \"Price\": 20},\n",
    "            {\"name\": \"prod3\", \"Qty\": 3, \"Price\": 30},\n",
    "        ],\n",
    "    },\n",
    "}\n",
    "\n",
    "print(strore_info)\n",
    "\n",
    "for store, str_detl in strore_info.items():\n",
    "    print(store)\n",
    "\n",
    "\n",
    "for store, str_detl in strore_info.items():\n",
    "    # print(strore_info[store][\"products\"])\n",
    "    for prod in strore_info[store][\"products\"]:\n",
    "        # print(prod[\"name\"])\n",
    "        print(prod.get(\"name\"))\n",
    "        "
   ]
  }
 ],
 "metadata": {
  "kernelspec": {
   "display_name": "Python 3",
   "language": "python",
   "name": "python3"
  },
  "language_info": {
   "codemirror_mode": {
    "name": "ipython",
    "version": 3
   },
   "file_extension": ".py",
   "mimetype": "text/x-python",
   "name": "python",
   "nbconvert_exporter": "python",
   "pygments_lexer": "ipython3",
   "version": "3.10.0"
  }
 },
 "nbformat": 4,
 "nbformat_minor": 2
}
