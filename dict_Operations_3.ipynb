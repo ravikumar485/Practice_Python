{
 "cells": [
  {
   "cell_type": "code",
   "execution_count": 11,
   "metadata": {},
   "outputs": [
    {
     "name": "stdout",
     "output_type": "stream",
     "text": [
      "a occured in  3 times..\n",
      "i occured in  1 times..\n",
      "k occured in  1 times..\n",
      "m occured in  1 times..\n",
      "r occured in  2 times..\n",
      "u occured in  1 times..\n",
      "v occured in  1 times..\n"
     ]
    }
   ],
   "source": [
    "string_value=input(\"Enter a string value\")\n",
    "\n",
    "d={}\n",
    "for i in string_value:\n",
    "    d[i]=d.get(i,0)+1\n",
    "    \n",
    "for k,v in sorted(d.items()):\n",
    "    print (\"{} occured in  {} times..\".format(k,v))"
   ]
  },
  {
   "cell_type": "code",
   "execution_count": 12,
   "metadata": {},
   "outputs": [
    {
     "name": "stdout",
     "output_type": "stream",
     "text": [
      "{'a': 2, 'i': 1, 'u': 1}\n"
     ]
    }
   ],
   "source": [
    "vowels={\"a\",\"e\",\"i\",\"o\",\"u\"}\n",
    "\n",
    "string_value=input(\"Enter the string:\")\n",
    "d={}\n",
    "\n",
    "for i in string_value:\n",
    "    if i in vowels:\n",
    "        d[i]=d.get(i,0)+1\n",
    "print(d)\n"
   ]
  }
 ],
 "metadata": {
  "kernelspec": {
   "display_name": "Python 3",
   "language": "python",
   "name": "python3"
  },
  "language_info": {
   "codemirror_mode": {
    "name": "ipython",
    "version": 3
   },
   "file_extension": ".py",
   "mimetype": "text/x-python",
   "name": "python",
   "nbconvert_exporter": "python",
   "pygments_lexer": "ipython3",
   "version": "3.10.0"
  }
 },
 "nbformat": 4,
 "nbformat_minor": 2
}
